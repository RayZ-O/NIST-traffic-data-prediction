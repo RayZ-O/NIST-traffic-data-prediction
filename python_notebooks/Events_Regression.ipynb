{
 "cells": [
  {
   "cell_type": "code",
   "execution_count": 78,
   "metadata": {
    "collapsed": true
   },
   "outputs": [],
   "source": [
    "import pylab as pl\n",
    "from sklearn import linear_model\n",
    "from sklearn import tree\n",
    "from sklearn.metrics import confusion_matrix\n",
    "from sklearn import tree\n",
    "from sklearn import linear_model\n",
    "from sklearn import gaussian_process\n",
    "from sklearn.metrics import mean_absolute_error\n",
    "from sklearn.metrics import explained_variance_score\n",
    "from sklearn.metrics import explained_variance_score\n",
    "from sklearn import datasets, linear_model\n",
    "import numpy as np\n",
    "from sklearn.preprocessing import PolynomialFeatures\n",
    "from sklearn import preprocessing\n",
    "from datetime import datetime\n",
    "import time"
   ]
  },
  {
   "cell_type": "code",
   "execution_count": 65,
   "metadata": {
    "collapsed": false
   },
   "outputs": [],
   "source": [
    "def callAllRegressor(featureMat,targets,counter):\n",
    "    no_of_training_example = 0.75*counter\n",
    "    print 'Result for Linear Regression:- '\n",
    "    clf = linear_model.LinearRegression()\n",
    "    runRegressor(clf,featureMat,targets,no_of_training_example);\n",
    "\n",
    "\n",
    "    print 'Result for Decision Tree Regression:- '\n",
    "    clf = tree.DecisionTreeRegressor()\n",
    "    runRegressor(clf,featureMat,targets,no_of_training_example);\n",
    "\n",
    "\n",
    "    print 'Result for Bayesian Linear Regression:- '\n",
    "    clf = linear_model.BayesianRidge()\n",
    "    runRegressor(clf,featureMat,targets,no_of_training_example);\n",
    "\n",
    "    print 'Result for Exponential Regression:- '\n",
    "    poly = PolynomialFeatures(degree=2)\n",
    "    featureMat = poly.fit_transform(featureMat)\n",
    "    runRegressor(clf,featureMat,targets,no_of_training_example);\n",
    "def runRegressor( clf,featureMat,targets,no_of_training_example ):\n",
    "    try:\n",
    "        clf.fit(featureMat[:no_of_training_example,:], targets[:no_of_training_example])\n",
    "        y_pred = clf.predict(featureMat[no_of_training_example:,:])\n",
    "        print 'Variance Score'\n",
    "        print explained_variance_score(targets[no_of_training_example:], y_pred)\n",
    "        print 'Mean absolute error'\n",
    "        print mean_absolute_error(targets[no_of_training_example:], y_pred)\n",
    "        print 'Explained variance score'\n",
    "        print explained_variance_score(targets[no_of_training_example:], y_pred)\n",
    "    except Exception, e:\n",
    "        print e\n",
    "    return;"
   ]
  },
  {
   "cell_type": "code",
   "execution_count": 92,
   "metadata": {
    "collapsed": false
   },
   "outputs": [
    {
     "data": {
      "text/plain": [
       "Index([u'lat1', u'long1', u'lat2', u'long2', u'start_date', u'end_date', u'accidents', u'roadwork', u'precipitation', u'device_status', u'obstruction', u'traffic_condition', u'st_date_int', u'end_date_int'], dtype='object')"
      ]
     },
     "execution_count": 92,
     "metadata": {},
     "output_type": "execute_result"
    }
   ],
   "source": [
    "import pandas as pd\n",
    "pattern = '%Y-%m-%d'\n",
    "names_col = ['lat1','long1','lat2','long2','start_date','end_date','accidents','roadwork','precipitation',\n",
    "            'device_status','obstruction','traffic_condition']\n",
    "filtered_events  = pd.read_csv(\"/home/sudeepgaddam/Downloads/filtered.csv\",header=None, names=names_col)\n",
    "\n",
    "filtered_events['st_date_int'] = filtered_events.apply(lambda x: int(time.mktime(time.strptime(x['start_date'], pattern))),axis=1)\n",
    "filtered_events['end_date_int'] = filtered_events.apply(lambda x: int(time.mktime(time.strptime(x['end_date'], pattern))),axis=1)\n",
    "\n",
    "filtered_events.columns\n",
    "#filtered_events['end_date_int'][:10]\n",
    "\n",
    "#print filtered_events[:2]"
   ]
  },
  {
   "cell_type": "code",
   "execution_count": 91,
   "metadata": {
    "collapsed": false
   },
   "outputs": [],
   "source": [
    "filtered_events[['st_date_int','end_date_int']][:10]\n"
   ]
  },
  {
   "cell_type": "code",
   "execution_count": null,
   "metadata": {
    "collapsed": true
   },
   "outputs": [],
   "source": []
  },
  {
   "cell_type": "code",
   "execution_count": 93,
   "metadata": {
    "collapsed": false
   },
   "outputs": [],
   "source": [
    "X = filtered_events['accidents'].values.astype(float)\n",
    "Y_accidents=filtered_events['accidents'].values.astype(float)\n",
    "Y_roadwork = filtered_events['roadwork'].values.astype(float)\n",
    "Y_precipitation = filtered_events['precipitation'].values.astype(float)\n",
    "Y_device_status = filtered_events['device_status'].values.astype(float)\n",
    "Y_obstruction = filtered_events['obstruction'].values.astype(float)\n",
    "Y_traffic_condition = filtered_events['traffic_condition'].values.astype(float)\n",
    "\n",
    "#x_scaled = X[:100]\n",
    "#print x_scaled\n",
    "#X = np.array([0., 0., 0.,1., 0., 0., 0.])\n",
    "#x_scaled"
   ]
  },
  {
   "cell_type": "code",
   "execution_count": 96,
   "metadata": {
    "collapsed": false
   },
   "outputs": [],
   "source": [
    "filtered_events = filtered_events[['lat1','long1','lat2','long2','st_date_int','end_date_int']]\n",
    "preprocessed_events = preprocessing.scale(filtered_events.values.astype(float))\n"
   ]
  },
  {
   "cell_type": "code",
   "execution_count": 97,
   "metadata": {
    "collapsed": false
   },
   "outputs": [
    {
     "name": "stdout",
     "output_type": "stream",
     "text": [
      "[ 1.  1.  1.  1.  1.  1.]\n",
      "[  2.90243803e-15   4.66444258e-14  -9.26808900e-14   7.86053988e-15\n",
      "  -1.12325200e-13  -2.11515886e-13]\n"
     ]
    }
   ],
   "source": [
    "print preprocessed_events.std(axis=0)\n",
    "print preprocessed_events.mean(axis=0)\n"
   ]
  },
  {
   "cell_type": "code",
   "execution_count": 110,
   "metadata": {
    "collapsed": false
   },
   "outputs": [],
   "source": [
    "poly = PolynomialFeatures(degree=1)\n",
    "featureMat = poly.fit_transform(preprocessed_events)\n",
    "\n",
    "#featureMat[:10]"
   ]
  },
  {
   "cell_type": "code",
   "execution_count": 122,
   "metadata": {
    "collapsed": false
   },
   "outputs": [
    {
     "name": "stdout",
     "output_type": "stream",
     "text": [
      "203528.25\n"
     ]
    }
   ],
   "source": [
    "no_of_training_example = 0.75*len(featureMat)\n",
    "print no_of_training_example\n",
    "clf = linear_model.LinearRegression(fit_intercept=False)"
   ]
  },
  {
   "cell_type": "code",
   "execution_count": 124,
   "metadata": {
    "collapsed": false
   },
   "outputs": [
    {
     "name": "stderr",
     "output_type": "stream",
     "text": [
      "/usr/local/lib/python2.7/dist-packages/ipykernel/__main__.py:1: DeprecationWarning: using a non-integer number instead of an integer will result in an error in the future\n",
      "  if __name__ == '__main__':\n",
      "/usr/local/lib/python2.7/dist-packages/ipykernel/__main__.py:2: DeprecationWarning: using a non-integer number instead of an integer will result in an error in the future\n",
      "  from ipykernel import kernelapp as app\n"
     ]
    },
    {
     "name": "stdout",
     "output_type": "stream",
     "text": [
      "[ 0.35066279  0.34810236  2.85069631 ...,  1.34232884 -8.24566717\n",
      " -4.60156096]\n"
     ]
    }
   ],
   "source": [
    "clf.fit(featureMat[:no_of_training_example,:], Y_accidents[:no_of_training_example])\n",
    "linear_reg = clf.predict(featureMat[no_of_training_example:,:])\n",
    "print linear_reg"
   ]
  },
  {
   "cell_type": "code",
   "execution_count": 126,
   "metadata": {
    "collapsed": false
   },
   "outputs": [
    {
     "name": "stdout",
     "output_type": "stream",
     "text": [
      "Variance Score\n",
      "0.0178856445093\n",
      "Mean absolute error\n",
      "5.95304533332\n",
      "Explained variance score\n",
      "0.0178856445093\n"
     ]
    },
    {
     "name": "stderr",
     "output_type": "stream",
     "text": [
      "/usr/local/lib/python2.7/dist-packages/ipykernel/__main__.py:2: DeprecationWarning: using a non-integer number instead of an integer will result in an error in the future\n",
      "  from ipykernel import kernelapp as app\n",
      "/usr/local/lib/python2.7/dist-packages/ipykernel/__main__.py:4: DeprecationWarning: using a non-integer number instead of an integer will result in an error in the future\n",
      "/usr/local/lib/python2.7/dist-packages/ipykernel/__main__.py:6: DeprecationWarning: using a non-integer number instead of an integer will result in an error in the future\n"
     ]
    }
   ],
   "source": [
    "print 'Variance Score'\n",
    "print explained_variance_score(Y_accidents[no_of_training_example:], y_pred)\n",
    "print 'Mean absolute error'\n",
    "print mean_absolute_error(Y_accidents[no_of_training_example:], y_pred)\n",
    "print 'Explained variance score'\n",
    "print explained_variance_score(Y_accidents[no_of_training_example:], y_pred)\n"
   ]
  },
  {
   "cell_type": "code",
   "execution_count": 127,
   "metadata": {
    "collapsed": false
   },
   "outputs": [
    {
     "name": "stderr",
     "output_type": "stream",
     "text": [
      "/usr/local/lib/python2.7/dist-packages/ipykernel/__main__.py:1: DeprecationWarning: using a non-integer number instead of an integer will result in an error in the future\n",
      "  if __name__ == '__main__':\n"
     ]
    },
    {
     "data": {
      "text/plain": [
       "5.9530453333226339"
      ]
     },
     "execution_count": 127,
     "metadata": {},
     "output_type": "execute_result"
    }
   ],
   "source": [
    "mean_absolute_error(Y_accidents[no_of_training_example:], y_pred)\n",
    "#8.9095118195778884 - LR - degree 3"
   ]
  },
  {
   "cell_type": "code",
   "execution_count": null,
   "metadata": {
    "collapsed": false
   },
   "outputs": [],
   "source": []
  },
  {
   "cell_type": "code",
   "execution_count": 120,
   "metadata": {
    "collapsed": false
   },
   "outputs": [
    {
     "name": "stderr",
     "output_type": "stream",
     "text": [
      "/usr/local/lib/python2.7/dist-packages/ipykernel/__main__.py:2: DeprecationWarning: using a non-integer number instead of an integer will result in an error in the future\n",
      "  from ipykernel import kernelapp as app\n",
      "/usr/local/lib/python2.7/dist-packages/ipykernel/__main__.py:3: DeprecationWarning: using a non-integer number instead of an integer will result in an error in the future\n",
      "  app.launch_new_instance()\n",
      "/usr/local/lib/python2.7/dist-packages/ipykernel/__main__.py:4: DeprecationWarning: using a non-integer number instead of an integer will result in an error in the future\n"
     ]
    },
    {
     "data": {
      "text/plain": [
       "5.916116187046744"
      ]
     },
     "execution_count": 120,
     "metadata": {},
     "output_type": "execute_result"
    }
   ],
   "source": [
    "clf = linear_model.BayesianRidge()\n",
    "clf.fit(featureMat[:no_of_training_example,:], Y_accidents[:no_of_training_example])\n",
    "bayes_ridge = clf.predict(featureMat[no_of_training_example:,:])\n",
    "print bayes_ridge\n",
    "mean_absolute_error(Y_accidents[no_of_training_example:], bayes_ridge)"
   ]
  },
  {
   "cell_type": "code",
   "execution_count": 121,
   "metadata": {
    "collapsed": false
   },
   "outputs": [
    {
     "name": "stdout",
     "output_type": "stream",
     "text": [
      "[-1.42331875 -1.4013415   1.08612447 ...,  1.53057278 -5.0085287\n",
      " -1.34963942]\n"
     ]
    }
   ],
   "source": [
    "print bayes_ridge\n"
   ]
  },
  {
   "cell_type": "code",
   "execution_count": 130,
   "metadata": {
    "collapsed": false
   },
   "outputs": [],
   "source": [
    "from sklearn.base import BaseEstimator\n",
    "class PolynomialRegression(BaseEstimator):\n",
    "    def __init__(self, deg=None):\n",
    "        self.deg = deg\n",
    "    \n",
    "    def fit(self, X, y, deg=None):\n",
    "        self.model = LinearRegression(fit_intercept=False)\n",
    "        self.model.fit(np.vander(X, N=self.deg + 1), y)\n",
    "    \n",
    "    def predict(self, x):\n",
    "        return self.model.predict(np.vander(x, N=self.deg + 1))\n",
    "    \n",
    "    @property\n",
    "    def coef_(self):\n",
    "        return self.model.coef_\n",
    "\n"
   ]
  },
  {
   "cell_type": "code",
   "execution_count": 134,
   "metadata": {
    "collapsed": false
   },
   "outputs": [],
   "source": [
    "from sklearn.grid_search import GridSearchCV\n",
    "from sklearn.linear_model import LinearRegression\n",
    "from sklearn.metrics import mean_squared_error\n",
    "estimator = PolynomialRegression()\n",
    "degrees = np.arange(1, 5)\n",
    "cv_model = GridSearchCV(estimator,\n",
    "                        param_grid={'deg': degrees},\n",
    "                        scoring='mean_squared_error')\n",
    "#cv_model.fit(featureMat[:no_of_training_example,:],Y_accidents[:no_of_training_example]);"
   ]
  },
  {
   "cell_type": "code",
   "execution_count": null,
   "metadata": {
    "collapsed": true
   },
   "outputs": [],
   "source": []
  }
 ],
 "metadata": {
  "kernelspec": {
   "display_name": "Python 2",
   "language": "python",
   "name": "python2"
  },
  "language_info": {
   "codemirror_mode": {
    "name": "ipython",
    "version": 2
   },
   "file_extension": ".py",
   "mimetype": "text/x-python",
   "name": "python",
   "nbconvert_exporter": "python",
   "pygments_lexer": "ipython2",
   "version": "2.7.6"
  }
 },
 "nbformat": 4,
 "nbformat_minor": 0
}
