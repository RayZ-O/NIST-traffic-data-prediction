{
 "cells": [
  {
   "cell_type": "code",
   "execution_count": 6,
   "metadata": {
    "collapsed": false
   },
   "outputs": [],
   "source": [
    "import pandas as pd\n",
    "#sudo pip install OsmApi\n",
    "#sudo pip install geopy\n",
    "from geopy.geocoders import Nominatim\n",
    "from geopy.distance import vincenty\n",
    "from osmapi import OsmApi\n",
    "import json\n",
    "\n",
    "\n",
    "names_col = ['lat1','long1','lat2','long2','start_measurement','end_measurement']\n",
    "pred_queries = pd.read_csv(\"/home/sudeepgaddam/Downloads/pred_trials.tsv\",sep='\\t',header=None, names=names_col)\n",
    "#print abc.ix[:,[0]]\n",
    "#print abc.ix[:,[1]].max()\n",
    "#abc = (MyApi.Map(38.9873,-77.0032,39.0052868372,-76.9841073308))\n",
    "\n",
    "\n",
    "\n",
    "bb= pred_queries.ix[:,[0,1,2,3]]\n",
    "\n",
    "\n",
    "bb['latlong1'] = bb.apply(lambda r: (r[0], r[1]), axis=1)\n",
    "bb['latlong2'] = bb.apply(lambda r: (r[2], r[3]), axis=1)\n",
    "\n",
    "bb['distance'] = bb.apply(lambda r: (vincenty(r['latlong1'], r['latlong2']).miles ), axis=1)\n",
    "\n",
    "#abc =pd.read_csv(\"/home/sudeepgaddam/Downloads/events_train.csv\")\n",
    "#filter_row = abc.ix[:,'created_tstamp']"
   ]
  },
  {
   "cell_type": "code",
   "execution_count": 7,
   "metadata": {
    "collapsed": false
   },
   "outputs": [],
   "source": [
    "#print bb['distance'].max()\n",
    "#print bb\n",
    "#print pred_queries\n"
   ]
  },
  {
   "cell_type": "code",
   "execution_count": 11,
   "metadata": {
    "collapsed": false
   },
   "outputs": [
    {
     "name": "stdout",
     "output_type": "stream",
     "text": [
      "min_lat 38.79226 max_lat 39.42083 min_long -76.411881 max_long -77.57\n",
      "75.8576160576\n",
      "1.75090439524\n",
      "2.47525797478\n",
      "(39.353092755057915, -76.5919444970983)\n",
      "39.3277258867 -76.6246240626\n"
     ]
    }
   ],
   "source": [
    "import geopy\n",
    "from geopy.distance import distance, VincentyDistance\n",
    "from geopy import Point\n",
    "# given: lat1, lon1, b = bearing in degrees, d = distance in kilometers\n",
    "\n",
    "import random\n",
    "#grouped = east_inven['latitude','longitude'].groupby(east_inven['zone_id'])\n",
    "#min_lat = inven.ix[:,['latitude']].min()\n",
    "#max_lat = inven.ix[:,['latitude']].max()\n",
    "#max_long = inven.ix[:,['longitude']].max()\n",
    "#min_long = inven.ix[:,['longitude']].min()\n",
    "min_lat = 38.79226\n",
    "min_long = -76.411881\n",
    "max_lat = 39.42083\n",
    "max_long = -77.57\n",
    "print \"min_lat\",min_lat, \"max_lat\",max_lat,\"min_long\", min_long,\"max_long\", max_long\n",
    "print vincenty((min_lat,min_long),(max_lat,max_long)).miles\n",
    "for i in range(1,2):\n",
    "    point1 = (random.uniform(min_lat,max_lat), random.uniform(min_long,max_long))\n",
    "    #print point1\n",
    "    #point2 = (random.uniform(min_lat,max_lat),random.uniform(min_long,max_long))\n",
    "    #print vincenty(point1, point2).miles\n",
    "\n",
    "    #origin = geopy.Point(random.uniform(min_lat,max_lat), random.uniform(min_long,max_long)))\n",
    "    lat1,lon1 = random.uniform(min_lat,max_lat), random.uniform(min_long,max_long)\n",
    "    #destination = VincentyDistance(kilometers=2).destination(origin, b)\n",
    "    dist_miles = random.uniform(1,5)\n",
    "    d = geopy.distance.VincentyDistance(miles = dist_miles)\n",
    "    start = Point(lat1, lon1)\n",
    "    p = Point(d.destination(point =start,bearing=45))\n",
    "    end= (p.latitude, p.longitude)\n",
    "    start1 = Point(lat1,p.longitude)\n",
    "    print vincenty(start, start1).miles\n",
    "    print vincenty(start, end).miles\n",
    "    \n",
    "    print end\n",
    "    print lat1, lon1\n",
    "    #print destination"
   ]
  },
  {
   "cell_type": "code",
   "execution_count": 4,
   "metadata": {
    "collapsed": false
   },
   "outputs": [
    {
     "name": "stdout",
     "output_type": "stream",
     "text": [
      "Custis Memorial Parkway, Fairfax County, Virginia, 20155, United States of America\n"
     ]
    }
   ],
   "source": [
    "\n",
    "#https://wiki.openstreetmap.org/wiki/Nominatim\n",
    "geolocator = Nominatim()\n",
    "location = geolocator.reverse(\"38.8105401, -77.4889331\")\n",
    "MyApi = OsmApi()\n",
    "print location\n"
   ]
  },
  {
   "cell_type": "code",
   "execution_count": 35,
   "metadata": {
    "collapsed": false
   },
   "outputs": [
    {
     "name": "stdout",
     "output_type": "stream",
     "text": [
      "''\n"
     ]
    }
   ],
   "source": [
    "abc = (MyApi.Map(-77.4905548096,38.810092926,-77.4899978638,38.8103103638))\n",
    "#print abc"
   ]
  },
  {
   "cell_type": "code",
   "execution_count": 45,
   "metadata": {
    "collapsed": false
   },
   "outputs": [
    {
     "name": "stdout",
     "output_type": "stream",
     "text": [
      "         lat1    long1       lat2      long2    start_measurement  \\\n",
      "1000  38.8273 -77.1232  38.840765 -77.108076  2015-07-01T00:00:00   \n",
      "\n",
      "          end_measurement  \n",
      "1000  2015-07-31T23:59:59  \n",
      "\n",
      "[1 rows x 6 columns]\n"
     ]
    }
   ],
   "source": [
    "def get_road_count(bb_result):\n",
    "    count=0\n",
    "    for a in abc:\n",
    "        if a['type'] == \"way\":\n",
    "            print a['data']['tag']\n",
    "\n",
    "            count+=1\n",
    "    return count\n",
    "count=0\n",
    "row =  pred_queries[1000:1001]\n",
    "print row\n",
    "\n",
    "#(40287, 6)"
   ]
  },
  {
   "cell_type": "code",
   "execution_count": 46,
   "metadata": {
    "collapsed": false
   },
   "outputs": [
    {
     "name": "stdout",
     "output_type": "stream",
     "text": [
      "''\n",
      "{u'tiger:name_base': u'I-66', u'horse': u'no', u'maxspeed': u'60 mph', u'bicycle': u'no', u'name': u'Custis Memorial Parkway', u'tiger:cfcc': u'A15', u'tiger:separated': u'yes', u'hgv': u'designated', u'tiger:source': u'tiger_import_dch_v0.6_20070830', u'hov': u'lane', u'note:lanes': u'left lane is hov', u'tiger:county': u'Prince William, VA', u'tiger:tlid': u'207164940:207165331:207165332:207165350:207165353:207165368:207165369:20717:207170088:207170090:207172262:207172283:207174164:207174178:207174180:207174637:207174696:207174862:207176742:207176934:207177297:207178281:207183096:207183099:207183399:207183448', u'oneway': u'yes', u'foot': u'no', u'lanes': u'4', u'sidewalk': u'none', u'ref': u'I 66', u'highway': u'motorway', u'tiger:upload_uuid': u'bulk_upload.pl-3a1ec051-2146-4ec9-9e72-455377b871a7'}\n",
      "{u'water': u'river', u'natural': u'water'}\n",
      "{u'bridge': u'yes', u'horse': u'no', u'maxspeed': u'60 mph', u'bicycle': u'no', u'name': u'Custis Memorial Parkway', u'tiger:cfcc': u'A15', u'tiger:name_base_1': u'I-66', u'hgv': u'designated', u'layer': u'1', u'hov': u'lane', u'note:lanes': u'left lane is hov', u'tiger:county': u'Fairfax, VA', u'tiger:name_type': u'Pky', u'oneway': u'yes', u'foot': u'no', u'lanes': u'4', u'sidewalk': u'none', u'ref': u'I 66', u'highway': u'motorway', u'tiger:name_base': u'Custis Memorial'}\n",
      "{u'tiger:county': u'Prince William, VA', u'tiger:reviewed': u'no', u'tiger:cfcc': u'A64', u'highway': u'motorway_link', u'oneway': u'yes'}\n",
      "4\n"
     ]
    }
   ],
   "source": [
    "map_res = MyApi.Map(row['long1'],row['lat1'],row['long2'],row['lat2'])\n",
    "print get_road_count(map_res)\n",
    "#abc = (MyApi.Map(-77.4905548096,38.810092926,-77.4899978638,38.8103103638))\n"
   ]
  },
  {
   "cell_type": "code",
   "execution_count": 1,
   "metadata": {
    "collapsed": false
   },
   "outputs": [
    {
     "ename": "NameError",
     "evalue": "name 'pred_q' is not defined",
     "output_type": "error",
     "traceback": [
      "\u001b[1;31m---------------------------------------------------------------------------\u001b[0m",
      "\u001b[1;31mNameError\u001b[0m                                 Traceback (most recent call last)",
      "\u001b[1;32m<ipython-input-1-615cfdb4a90a>\u001b[0m in \u001b[0;36m<module>\u001b[1;34m()\u001b[0m\n\u001b[1;32m----> 1\u001b[1;33m \u001b[1;32mfor\u001b[0m \u001b[0mindex\u001b[0m\u001b[1;33m,\u001b[0m \u001b[0mrow\u001b[0m \u001b[1;32min\u001b[0m \u001b[0mpred_q\u001b[0m\u001b[1;33m.\u001b[0m\u001b[0miterrows\u001b[0m\u001b[1;33m(\u001b[0m\u001b[1;33m)\u001b[0m\u001b[1;33m:\u001b[0m\u001b[1;33m\u001b[0m\u001b[0m\n\u001b[0m\u001b[0;32m      2\u001b[0m     \u001b[0mtemp_result\u001b[0m \u001b[1;33m=\u001b[0m \u001b[0mMyApi\u001b[0m\u001b[1;33m.\u001b[0m\u001b[0mMap\u001b[0m\u001b[1;33m(\u001b[0m\u001b[0mrow\u001b[0m\u001b[1;33m[\u001b[0m\u001b[1;34m'lat1'\u001b[0m\u001b[1;33m]\u001b[0m\u001b[1;33m,\u001b[0m\u001b[0mrow\u001b[0m\u001b[1;33m[\u001b[0m\u001b[1;34m'long1'\u001b[0m\u001b[1;33m]\u001b[0m\u001b[1;33m,\u001b[0m\u001b[0mrow\u001b[0m\u001b[1;33m[\u001b[0m\u001b[1;34m'lat2'\u001b[0m\u001b[1;33m]\u001b[0m\u001b[1;33m,\u001b[0m\u001b[0mrow\u001b[0m\u001b[1;33m[\u001b[0m\u001b[1;34m'long2'\u001b[0m\u001b[1;33m]\u001b[0m\u001b[1;33m)\u001b[0m\u001b[1;33m\u001b[0m\u001b[0m\n\u001b[0;32m      3\u001b[0m     \u001b[1;32mif\u001b[0m \u001b[0mget_road_count\u001b[0m\u001b[1;33m(\u001b[0m\u001b[0mtemp_result\u001b[0m\u001b[1;33m)\u001b[0m\u001b[1;33m:\u001b[0m\u001b[1;33m\u001b[0m\u001b[0m\n\u001b[0;32m      4\u001b[0m         \u001b[1;32mprint\u001b[0m \u001b[1;34m\"non-zero count\"\u001b[0m\u001b[1;33m\u001b[0m\u001b[0m\n\u001b[0;32m      5\u001b[0m \u001b[1;32mprint\u001b[0m \u001b[1;34m\"done with for loop\"\u001b[0m\u001b[1;33m\u001b[0m\u001b[0m\n",
      "\u001b[1;31mNameError\u001b[0m: name 'pred_q' is not defined"
     ]
    }
   ],
   "source": [
    "for index, row in pred_q.iterrows():\n",
    "    temp_result = MyApi.Map(row['lat1'],row['long1'],row['lat2'],row['long2']) \n",
    "    if get_road_count(temp_result):\n",
    "        print \"non-zero count\"\n",
    "print \"done with for loop\"\n",
    "    #print row['lat1'],row['long1'],row['lat2'],row['long2']\n",
    "    #print vincenty((row['lat1'],row['long1']), (row['lat2'],row['long2']) ).miles\n",
    "    #open, high, low, close, adjclose = row\n",
    "    #now perform analysis on open/close based on date, etc.."
   ]
  },
  {
   "cell_type": "code",
   "execution_count": null,
   "metadata": {
    "collapsed": false
   },
   "outputs": [],
   "source": []
  },
  {
   "cell_type": "code",
   "execution_count": null,
   "metadata": {
    "collapsed": false
   },
   "outputs": [],
   "source": []
  },
  {
   "cell_type": "code",
   "execution_count": null,
   "metadata": {
    "collapsed": true
   },
   "outputs": [],
   "source": []
  }
 ],
 "metadata": {
  "kernelspec": {
   "display_name": "Python 2",
   "language": "python",
   "name": "python2"
  },
  "language_info": {
   "codemirror_mode": {
    "name": "ipython",
    "version": 2
   },
   "file_extension": ".py",
   "mimetype": "text/x-python",
   "name": "python",
   "nbconvert_exporter": "python",
   "pygments_lexer": "ipython2",
   "version": "2.7.6"
  }
 },
 "nbformat": 4,
 "nbformat_minor": 0
}
