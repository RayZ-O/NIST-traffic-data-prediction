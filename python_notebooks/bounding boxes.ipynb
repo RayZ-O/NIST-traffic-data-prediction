{
 "cells": [
  {
   "cell_type": "code",
   "execution_count": 1,
   "metadata": {
    "collapsed": false
   },
   "outputs": [],
   "source": [
    "import pandas as pd\n",
    "#sudo pip install OsmApi\n",
    "#sudo pip install geopy\n",
    "from geopy.geocoders import Nominatim\n",
    "from geopy.distance import vincenty\n",
    "from osmapi import OsmApi\n",
    "import json\n",
    "\n",
    "\n",
    "names_col = ['lat1','long1','lat2','long2','start_measurement','end_measurement']\n",
    "pred_queries = pd.read_csv(\"/home/sudeepgaddam/Downloads/pred_trials.tsv\",sep='\\t',header=None, names=names_col)\n",
    "#print abc.ix[:,[0]]\n",
    "#print abc.ix[:,[1]].max()\n",
    "#abc = (MyApi.Map(38.9873,-77.0032,39.0052868372,-76.9841073308))\n",
    "\n",
    "\n",
    "\n",
    "bb= pred_queries.ix[:,[0,1,2,3]]\n",
    "\n",
    "\n",
    "bb['latlong1'] = bb.apply(lambda r: (r[0], r[1]), axis=1)\n",
    "bb['latlong2'] = bb.apply(lambda r: (r[2], r[3]), axis=1)\n",
    "\n",
    "bb['distance'] = bb.apply(lambda r: (vincenty(r['latlong1'], r['latlong2']).miles ), axis=1)\n",
    "\n",
    "#abc =pd.read_csv(\"/home/sudeepgaddam/Downloads/events_train.csv\")\n",
    "#filter_row = abc.ix[:,'created_tstamp']"
   ]
  },
  {
   "cell_type": "code",
   "execution_count": 2,
   "metadata": {
    "collapsed": false
   },
   "outputs": [
    {
     "name": "stdout",
     "output_type": "stream",
     "text": [
      "       lat1    long1       lat2      long2    start_measurement  \\\n",
      "0   38.7873 -77.1532  38.797892 -77.147105  2015-03-01T00:00:00   \n",
      "1   39.1673 -76.7432  39.180364 -76.722014  2015-05-01T00:00:00   \n",
      "2   39.1673 -76.7432  39.180364 -76.722014  2015-01-01T00:00:00   \n",
      "3   39.1673 -76.7432  39.180364 -76.722014  2015-02-01T00:00:00   \n",
      "4   39.1673 -76.7432  39.180364 -76.722014  2015-06-01T00:00:00   \n",
      "5   38.7973 -77.0932  38.807445 -77.083433  2015-06-01T00:00:00   \n",
      "6   38.7973 -77.0932  38.807445 -77.083433  2015-08-01T00:00:00   \n",
      "7   38.7973 -77.0932  38.807445 -77.083433  2015-05-01T00:00:00   \n",
      "8   39.1973 -76.6032  39.208680 -76.586148  2015-01-01T00:00:00   \n",
      "9   39.1973 -76.6032  39.208680 -76.586148  2015-04-01T00:00:00   \n",
      "10  39.1973 -76.6032  39.208680 -76.586148  2015-03-01T00:00:00   \n",
      "11  38.7973 -77.2032  38.802491 -77.181747  2015-05-01T00:00:00   \n",
      "12  38.7973 -77.2032  38.802491 -77.181747  2015-08-01T00:00:00   \n",
      "13  38.7973 -77.2032  38.802491 -77.181747  2015-06-01T00:00:00   \n",
      "14  38.7973 -77.2032  38.802491 -77.181747  2015-01-01T00:00:00   \n",
      "15  38.7973 -77.2032  38.802491 -77.181747  2015-03-01T00:00:00   \n",
      "16  38.7973 -77.2032  38.802491 -77.181747  2015-07-01T00:00:00   \n",
      "17  38.7973 -77.2032  38.802491 -77.181747  2015-02-01T00:00:00   \n",
      "18  39.2473 -76.7432  39.263102 -76.725100  2015-05-01T00:00:00   \n",
      "19  39.2473 -76.7432  39.263102 -76.725100  2015-06-01T00:00:00   \n",
      "20  39.2473 -76.7432  39.263102 -76.725100  2015-08-01T00:00:00   \n",
      "21  38.7273 -77.2032  38.738787 -77.185783  2015-07-01T00:00:00   \n",
      "22  38.7273 -77.2032  38.738787 -77.185783  2015-01-01T00:00:00   \n",
      "23  38.7273 -77.2032  38.738787 -77.185783  2015-08-01T00:00:00   \n",
      "24  38.7273 -77.2032  38.738787 -77.185783  2015-02-01T00:00:00   \n",
      "25  38.7273 -77.2032  38.738787 -77.185783  2015-04-01T00:00:00   \n",
      "26  39.0673 -76.5532  39.080666 -76.540561  2015-04-01T00:00:00   \n",
      "27  39.0373 -77.1232  39.053522 -77.107458  2015-06-01T00:00:00   \n",
      "28  38.8273 -77.1032  38.836952 -77.080282  2015-07-01T00:00:00   \n",
      "29  38.8273 -77.1032  38.836952 -77.080282  2015-04-01T00:00:00   \n",
      "30  38.8273 -77.1032  38.836952 -77.080282  2015-03-01T00:00:00   \n",
      "31  38.8573 -77.0832  38.866790 -77.069205  2015-08-01T00:00:00   \n",
      "32  38.8573 -77.0832  38.866790 -77.069205  2015-01-01T00:00:00   \n",
      "33  38.8573 -77.0832  38.866790 -77.069205  2015-04-01T00:00:00   \n",
      "34  38.8573 -77.0832  38.866790 -77.069205  2015-05-01T00:00:00   \n",
      "35  38.8573 -77.0832  38.866790 -77.069205  2015-07-01T00:00:00   \n",
      "36  38.8673 -77.3032  38.884981 -77.288709  2015-07-01T00:00:00   \n",
      "37  38.8673 -77.3032  38.884981 -77.288709  2015-05-01T00:00:00   \n",
      "38  38.8673 -77.3032  38.884981 -77.288709  2015-04-01T00:00:00   \n",
      "39  38.8673 -77.3032  38.884981 -77.288709  2015-08-01T00:00:00   \n",
      "40  38.8673 -77.3032  38.884981 -77.288709  2015-02-01T00:00:00   \n",
      "41  38.8673 -77.3032  38.884981 -77.288709  2015-01-01T00:00:00   \n",
      "42  38.8273 -77.2132  38.838177 -77.200096  2015-06-01T00:00:00   \n",
      "43  38.9673 -77.1832  38.982840 -77.169616  2015-02-01T00:00:00   \n",
      "44  38.9673 -77.1832  38.982840 -77.169616  2015-06-01T00:00:00   \n",
      "45  38.9673 -77.1832  38.982840 -77.169616  2015-04-01T00:00:00   \n",
      "46  38.9673 -77.1832  38.982840 -77.169616  2015-07-01T00:00:00   \n",
      "47  38.9673 -77.1832  38.982840 -77.169616  2015-01-01T00:00:00   \n",
      "48  38.9673 -77.1832  38.982840 -77.169616  2015-05-01T00:00:00   \n",
      "49  38.9873 -77.0032  39.005287 -76.984107  2015-07-01T00:00:00   \n",
      "50  38.9873 -77.0032  39.005287 -76.984107  2015-02-01T00:00:00   \n",
      "51  38.7873 -77.0232  38.804216 -77.007015  2015-08-01T00:00:00   \n",
      "52  38.7873 -77.0232  38.804216 -77.007015  2015-05-01T00:00:00   \n",
      "53  38.7873 -77.0232  38.804216 -77.007015  2015-02-01T00:00:00   \n",
      "54  39.1873 -76.7032  39.199027 -76.688878  2015-07-01T00:00:00   \n",
      "55  39.2573 -76.6932  39.273797 -76.677548  2015-05-01T00:00:00   \n",
      "56  39.2573 -76.6932  39.273797 -76.677548  2015-04-01T00:00:00   \n",
      "57  38.9273 -77.2232  38.935766 -77.201576  2015-08-01T00:00:00   \n",
      "58  38.9273 -77.2232  38.935766 -77.201576  2015-04-01T00:00:00   \n",
      "59  38.9273 -77.2232  38.935766 -77.201576  2015-06-01T00:00:00   \n",
      "        ...      ...        ...        ...                  ...   \n",
      "\n",
      "        end_measurement  \n",
      "0   2015-03-31T23:59:59  \n",
      "1   2015-05-31T23:59:59  \n",
      "2   2015-01-31T23:59:59  \n",
      "3   2015-02-28T23:59:59  \n",
      "4   2015-06-30T23:59:59  \n",
      "5   2015-06-30T23:59:59  \n",
      "6   2015-08-31T23:59:59  \n",
      "7   2015-05-31T23:59:59  \n",
      "8   2015-01-31T23:59:59  \n",
      "9   2015-04-30T23:59:59  \n",
      "10  2015-03-31T23:59:59  \n",
      "11  2015-05-31T23:59:59  \n",
      "12  2015-08-31T23:59:59  \n",
      "13  2015-06-30T23:59:59  \n",
      "14  2015-01-31T23:59:59  \n",
      "15  2015-03-31T23:59:59  \n",
      "16  2015-07-31T23:59:59  \n",
      "17  2015-02-28T23:59:59  \n",
      "18  2015-05-31T23:59:59  \n",
      "19  2015-06-30T23:59:59  \n",
      "20  2015-08-31T23:59:59  \n",
      "21  2015-07-31T23:59:59  \n",
      "22  2015-01-31T23:59:59  \n",
      "23  2015-08-31T23:59:59  \n",
      "24  2015-02-28T23:59:59  \n",
      "25  2015-04-30T23:59:59  \n",
      "26  2015-04-30T23:59:59  \n",
      "27  2015-06-30T23:59:59  \n",
      "28  2015-07-31T23:59:59  \n",
      "29  2015-04-30T23:59:59  \n",
      "30  2015-03-31T23:59:59  \n",
      "31  2015-08-31T23:59:59  \n",
      "32  2015-01-31T23:59:59  \n",
      "33  2015-04-30T23:59:59  \n",
      "34  2015-05-31T23:59:59  \n",
      "35  2015-07-31T23:59:59  \n",
      "36  2015-07-31T23:59:59  \n",
      "37  2015-05-31T23:59:59  \n",
      "38  2015-04-30T23:59:59  \n",
      "39  2015-08-31T23:59:59  \n",
      "40  2015-02-28T23:59:59  \n",
      "41  2015-01-31T23:59:59  \n",
      "42  2015-06-30T23:59:59  \n",
      "43  2015-02-28T23:59:59  \n",
      "44  2015-06-30T23:59:59  \n",
      "45  2015-04-30T23:59:59  \n",
      "46  2015-07-31T23:59:59  \n",
      "47  2015-01-31T23:59:59  \n",
      "48  2015-05-31T23:59:59  \n",
      "49  2015-07-31T23:59:59  \n",
      "50  2015-02-28T23:59:59  \n",
      "51  2015-08-31T23:59:59  \n",
      "52  2015-05-31T23:59:59  \n",
      "53  2015-02-28T23:59:59  \n",
      "54  2015-07-31T23:59:59  \n",
      "55  2015-05-31T23:59:59  \n",
      "56  2015-04-30T23:59:59  \n",
      "57  2015-08-31T23:59:59  \n",
      "58  2015-04-30T23:59:59  \n",
      "59  2015-06-30T23:59:59  \n",
      "                    ...  \n",
      "\n",
      "[40287 rows x 6 columns]\n"
     ]
    }
   ],
   "source": [
    "#print bb['distance'].max()\n",
    "#print bb\n",
    "print pred_queries\n"
   ]
  },
  {
   "cell_type": "code",
   "execution_count": 3,
   "metadata": {
    "collapsed": false
   },
   "outputs": [
    {
     "name": "stdout",
     "output_type": "stream",
     "text": [
      "min_lat 38.79226 max_lat 39.42083 min_long -76.411881 max_long -77.57\n",
      "75.8576160576\n",
      "(39.35109196966105, -76.68461211582252)\n",
      "39.3065749123 -76.6846121158\n",
      "(39.1533395837112, -77.04258434650224)\n",
      "39.0822339091 -77.0425843465\n",
      "(39.30253600662932, -76.48303768034117)\n",
      "39.2632282579 -76.4830376803\n",
      "(39.353090497216925, -77.27267521617301)\n",
      "39.3151659161 -77.2726752162\n",
      "(38.98975515276595, -76.65616098597545)\n",
      "38.9541660399 -76.656160986\n",
      "(38.89293145980444, -76.91157357346744)\n",
      "38.8290422332 -76.9115735735\n",
      "(39.401707375112274, -77.27696344882797)\n",
      "39.3792105912 -77.2769634488\n",
      "(38.9657289413129, -77.1910372863095)\n",
      "38.9441091593 -77.1910372863\n",
      "(39.187730343408, -76.4534017879444)\n",
      "39.1672387907 -76.4534017879\n"
     ]
    }
   ],
   "source": [
    "import geopy\n",
    "from geopy.distance import distance, VincentyDistance\n",
    "from geopy import Point\n",
    "# given: lat1, lon1, b = bearing in degrees, d = distance in kilometers\n",
    "\n",
    "import random\n",
    "#grouped = east_inven['latitude','longitude'].groupby(east_inven['zone_id'])\n",
    "#min_lat = inven.ix[:,['latitude']].min()\n",
    "#max_lat = inven.ix[:,['latitude']].max()\n",
    "#max_long = inven.ix[:,['longitude']].max()\n",
    "#min_long = inven.ix[:,['longitude']].min()\n",
    "min_lat = 38.79226\n",
    "min_long = -76.411881\n",
    "max_lat = 39.42083\n",
    "max_long = -77.57\n",
    "print \"min_lat\",min_lat, \"max_lat\",max_lat,\"min_long\", min_long,\"max_long\", max_long\n",
    "print vincenty((min_lat,min_long),(max_lat,max_long)).miles\n",
    "for i in range(1,10):\n",
    "    point1 = (random.uniform(min_lat,max_lat), random.uniform(min_long,max_long))\n",
    "    #print point1\n",
    "    #point2 = (random.uniform(min_lat,max_lat),random.uniform(min_long,max_long))\n",
    "    #print vincenty(point1, point2).miles\n",
    "\n",
    "    #origin = geopy.Point(random.uniform(min_lat,max_lat), random.uniform(min_long,max_long)))\n",
    "    lat1,lon1 = random.uniform(min_lat,max_lat), random.uniform(min_long,max_long)\n",
    "    #destination = VincentyDistance(kilometers=2).destination(origin, b)\n",
    "    dist_miles = random.uniform(1,5)\n",
    "    d = geopy.distance.VincentyDistance(miles = dist_miles)\n",
    "    start = Point(lat1, lon1)\n",
    "    p = Point(d.destination(point =start,bearing=0))\n",
    "    end= (p.latitude, p.longitude)\n",
    "    #print vincenty(start, end).miles\n",
    "    print end\n",
    "    print lat1, lon1\n",
    "    #print destination"
   ]
  },
  {
   "cell_type": "code",
   "execution_count": 4,
   "metadata": {
    "collapsed": false
   },
   "outputs": [
    {
     "name": "stdout",
     "output_type": "stream",
     "text": [
      "Custis Memorial Parkway, Fairfax County, Virginia, 20155, United States of America\n"
     ]
    }
   ],
   "source": [
    "\n",
    "#https://wiki.openstreetmap.org/wiki/Nominatim\n",
    "geolocator = Nominatim()\n",
    "location = geolocator.reverse(\"38.8105401, -77.4889331\")\n",
    "MyApi = OsmApi()\n",
    "print location\n"
   ]
  },
  {
   "cell_type": "code",
   "execution_count": 35,
   "metadata": {
    "collapsed": false
   },
   "outputs": [
    {
     "name": "stdout",
     "output_type": "stream",
     "text": [
      "''\n"
     ]
    }
   ],
   "source": [
    "abc = (MyApi.Map(-77.4905548096,38.810092926,-77.4899978638,38.8103103638))\n",
    "#print abc"
   ]
  },
  {
   "cell_type": "code",
   "execution_count": 45,
   "metadata": {
    "collapsed": false
   },
   "outputs": [
    {
     "name": "stdout",
     "output_type": "stream",
     "text": [
      "         lat1    long1       lat2      long2    start_measurement  \\\n",
      "1000  38.8273 -77.1232  38.840765 -77.108076  2015-07-01T00:00:00   \n",
      "\n",
      "          end_measurement  \n",
      "1000  2015-07-31T23:59:59  \n",
      "\n",
      "[1 rows x 6 columns]\n"
     ]
    }
   ],
   "source": [
    "def get_road_count(bb_result):\n",
    "    count=0\n",
    "    for a in abc:\n",
    "        if a['type'] == \"way\":\n",
    "            print a['data']['tag']\n",
    "\n",
    "            count+=1\n",
    "    return count\n",
    "count=0\n",
    "row =  pred_queries[1000:1001]\n",
    "print row\n",
    "\n",
    "#(40287, 6)"
   ]
  },
  {
   "cell_type": "code",
   "execution_count": 46,
   "metadata": {
    "collapsed": false
   },
   "outputs": [
    {
     "name": "stdout",
     "output_type": "stream",
     "text": [
      "''\n",
      "{u'tiger:name_base': u'I-66', u'horse': u'no', u'maxspeed': u'60 mph', u'bicycle': u'no', u'name': u'Custis Memorial Parkway', u'tiger:cfcc': u'A15', u'tiger:separated': u'yes', u'hgv': u'designated', u'tiger:source': u'tiger_import_dch_v0.6_20070830', u'hov': u'lane', u'note:lanes': u'left lane is hov', u'tiger:county': u'Prince William, VA', u'tiger:tlid': u'207164940:207165331:207165332:207165350:207165353:207165368:207165369:20717:207170088:207170090:207172262:207172283:207174164:207174178:207174180:207174637:207174696:207174862:207176742:207176934:207177297:207178281:207183096:207183099:207183399:207183448', u'oneway': u'yes', u'foot': u'no', u'lanes': u'4', u'sidewalk': u'none', u'ref': u'I 66', u'highway': u'motorway', u'tiger:upload_uuid': u'bulk_upload.pl-3a1ec051-2146-4ec9-9e72-455377b871a7'}\n",
      "{u'water': u'river', u'natural': u'water'}\n",
      "{u'bridge': u'yes', u'horse': u'no', u'maxspeed': u'60 mph', u'bicycle': u'no', u'name': u'Custis Memorial Parkway', u'tiger:cfcc': u'A15', u'tiger:name_base_1': u'I-66', u'hgv': u'designated', u'layer': u'1', u'hov': u'lane', u'note:lanes': u'left lane is hov', u'tiger:county': u'Fairfax, VA', u'tiger:name_type': u'Pky', u'oneway': u'yes', u'foot': u'no', u'lanes': u'4', u'sidewalk': u'none', u'ref': u'I 66', u'highway': u'motorway', u'tiger:name_base': u'Custis Memorial'}\n",
      "{u'tiger:county': u'Prince William, VA', u'tiger:reviewed': u'no', u'tiger:cfcc': u'A64', u'highway': u'motorway_link', u'oneway': u'yes'}\n",
      "4\n"
     ]
    }
   ],
   "source": [
    "map_res = MyApi.Map(row['long1'],row['lat1'],row['long2'],row['lat2'])\n",
    "print get_road_count(map_res)\n",
    "#abc = (MyApi.Map(-77.4905548096,38.810092926,-77.4899978638,38.8103103638))\n"
   ]
  },
  {
   "cell_type": "code",
   "execution_count": null,
   "metadata": {
    "collapsed": true
   },
   "outputs": [],
   "source": [
    "for index, row in pred_q.iterrows():\n",
    "    temp_result = MyApi.Map(row['lat1'],row['long1'],row['lat2'],row['long2']) \n",
    "    if get_road_count(temp_result):\n",
    "        print \"non-zero count\"\n",
    "print \"done with for loop\"\n",
    "    #print row['lat1'],row['long1'],row['lat2'],row['long2']\n",
    "    #print vincenty((row['lat1'],row['long1']), (row['lat2'],row['long2']) ).miles\n",
    "    #open, high, low, close, adjclose = row\n",
    "    #now perform analysis on open/close based on date, etc.."
   ]
  }
 ],
 "metadata": {
  "kernelspec": {
   "display_name": "Python 2",
   "language": "python",
   "name": "python2"
  },
  "language_info": {
   "codemirror_mode": {
    "name": "ipython",
    "version": 2
   },
   "file_extension": ".py",
   "mimetype": "text/x-python",
   "name": "python",
   "nbconvert_exporter": "python",
   "pygments_lexer": "ipython2",
   "version": "2.7.6"
  }
 },
 "nbformat": 4,
 "nbformat_minor": 0
}
