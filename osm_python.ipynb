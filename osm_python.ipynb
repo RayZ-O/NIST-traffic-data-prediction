{
 "cells": [
  {
   "cell_type": "code",
   "execution_count": 13,
   "metadata": {
    "collapsed": false
   },
   "outputs": [
    {
     "name": "stdout",
     "output_type": "stream",
     "text": [
      "Custis Memorial Parkway, Fairfax County, Virginia, 20155, United States of America\n"
     ]
    }
   ],
   "source": [
    "#sudo pip install OsmApi\n",
    "#sudo pip install geopy\n",
    "from geopy.geocoders import Nominatim\n",
    "from geopy.distance import vincenty\n",
    "from osmapi import OsmApi\n",
    "import json\n",
    "\n",
    "#https://wiki.openstreetmap.org/wiki/Nominatim\n",
    "geolocator = Nominatim()\n",
    "location = geolocator.reverse(\"38.8105401, -77.4889331\")\n",
    "MyApi = OsmApi()\n",
    "print location\n"
   ]
  },
  {
   "cell_type": "code",
   "execution_count": 52,
   "metadata": {
    "collapsed": false
   },
   "outputs": [
    {
     "name": "stdout",
     "output_type": "stream",
     "text": [
      "None\n",
      "0.00249376602913\n"
     ]
    }
   ],
   "source": [
    "print MyApi.NodeGet(8820105)\n",
    "point1 = (38.8105401,-77.4889331)\n",
    "point2 = (38.8105087,-77.4889102)\n",
    "print(vincenty(point1, point2).miles)"
   ]
  },
  {
   "cell_type": "code",
   "execution_count": 6,
   "metadata": {
    "collapsed": false
   },
   "outputs": [
    {
     "name": "stdout",
     "output_type": "stream",
     "text": [
      "''\n"
     ]
    }
   ],
   "source": [
    "#Use http://boundingbox.klokantech.com/ to get bounding box co-ordinates. Use OsmApi.Map which returns list of dicts. \n",
    "abc = (MyApi.Map(-77.4905548096,38.810092926,-77.4899978638,38.8103103638))\n"
   ]
  },
  {
   "cell_type": "code",
   "execution_count": 51,
   "metadata": {
    "collapsed": false
   },
   "outputs": [
    {
     "name": "stdout",
     "output_type": "stream",
     "text": [
      "605\n",
      "Printing way\n",
      "{u'tiger:name_base': u'I-66', u'horse': u'no', u'maxspeed': u'60 mph', u'bicycle': u'no', u'name': u'Custis Memorial Parkway', u'tiger:cfcc': u'A15', u'tiger:separated': u'yes', u'hgv': u'designated', u'tiger:source': u'tiger_import_dch_v0.6_20070830', u'hov': u'lane', u'note:lanes': u'left lane is hov', u'tiger:county': u'Prince William, VA', u'tiger:tlid': u'207164940:207165331:207165332:207165350:207165353:207165368:207165369:20717:207170088:207170090:207172262:207172283:207174164:207174178:207174180:207174637:207174696:207174862:207176742:207176934:207177297:207178281:207183096:207183099:207183399:207183448', u'oneway': u'yes', u'foot': u'no', u'lanes': u'4', u'sidewalk': u'none', u'ref': u'I 66', u'highway': u'motorway', u'tiger:upload_uuid': u'bulk_upload.pl-3a1ec051-2146-4ec9-9e72-455377b871a7'}\n",
      "Printing way\n",
      "{u'water': u'river', u'natural': u'water'}\n",
      "Printing way\n",
      "{u'bridge': u'yes', u'horse': u'no', u'maxspeed': u'60 mph', u'bicycle': u'no', u'name': u'Custis Memorial Parkway', u'tiger:cfcc': u'A15', u'tiger:name_base_1': u'I-66', u'hgv': u'designated', u'layer': u'1', u'hov': u'lane', u'note:lanes': u'left lane is hov', u'tiger:county': u'Fairfax, VA', u'tiger:name_type': u'Pky', u'oneway': u'yes', u'foot': u'no', u'lanes': u'4', u'sidewalk': u'none', u'ref': u'I 66', u'highway': u'motorway', u'tiger:name_base': u'Custis Memorial'}\n",
      "Printing way\n",
      "{u'tiger:county': u'Prince William, VA', u'tiger:reviewed': u'no', u'tiger:cfcc': u'A64', u'highway': u'motorway_link', u'oneway': u'yes'}\n"
     ]
    }
   ],
   "source": [
    "print len(abc)\n",
    "import yaml\n",
    "\n",
    "#first_tag = abc[200]\n",
    "#http://wiki.openstreetmap.org/wiki/Key:highway\n",
    "\n",
    "for a in abc:\n",
    "    if a['type'] == \"way\":\n",
    "        print \"Printing way\"\n",
    "        print a['data']['tag']"
   ]
  },
  {
   "cell_type": "code",
   "execution_count": 138,
   "metadata": {
    "collapsed": false
   },
   "outputs": [
    {
     "name": "stdout",
     "output_type": "stream",
     "text": [
      "Empty DataFrame\n",
      "Columns: [lane_id, zone_id, lane_number, name, state, road, direction, location_description, lane_type, organization, detector_type, latitude, longitude, bearing, default_speed, interval]\n",
      "Index: []\n",
      "\n",
      "[0 rows x 16 columns]\n",
      "    zone_id   latitude  longitude\n",
      "0        40  39.384129 -76.523505\n",
      "1        41  39.390327 -76.714290\n",
      "2        42  39.379282 -76.519755\n",
      "3        55  39.296079 -76.855962\n",
      "4        57  39.401979 -77.448155\n",
      "5       101  39.020399 -76.477562\n",
      "6       103  38.983888 -76.588853\n",
      "7       106  39.014080 -76.491367\n",
      "8       108  38.960735 -76.654701\n",
      "9       110  38.993769 -76.515234\n",
      "10      112  38.945252 -76.770554\n",
      "11      113  38.946884 -76.821862\n",
      "12      114  38.954903 -76.716926\n",
      "13      118  39.018323 -76.411881\n",
      "14      802  38.886009 -77.219026\n",
      "15      803  38.900451 -77.190584\n",
      "16      804  38.884749 -77.153754\n",
      "17      808  38.886737 -77.117281\n",
      "18      817  38.896858 -77.083793\n",
      "19      822  38.879477 -77.137758\n",
      "20      827  38.889226 -77.163928\n",
      "21      830  38.900068 -77.184854\n",
      "22      831  38.899885 -77.184529\n",
      "23      842  38.852891 -77.396909\n",
      "24      900  38.839420 -77.444600\n",
      "25      901  38.846464 -77.430673\n",
      "26      902  38.846739 -77.428871\n",
      "27      903  38.853168 -77.392049\n",
      "28      906  38.854135 -77.386648\n",
      "29      908  38.854367 -77.384963\n",
      "30      910  38.863240 -77.338200\n",
      "31      912  38.868870 -77.308350\n",
      "32      913  38.868760 -77.307680\n",
      "33      914  38.868760 -77.307680\n",
      "34      923  38.879000 -77.255400\n",
      "35      925  38.885621 -77.220999\n",
      "36      936  38.862600 -77.343500\n",
      "37      950  38.836152 -77.447376\n",
      "38     1119  38.810480 -77.488890\n",
      "39     1121  38.813577 -77.480984\n",
      "40     1123  38.816683 -77.473081\n",
      "41     1129  38.832047 -77.451365\n",
      "42     1131  38.837725 -77.446288\n",
      "43     1132  38.843394 -77.440176\n",
      "44     1134  38.846945 -77.429079\n",
      "45     1135  38.848313 -77.421455\n",
      "46     1137  38.849608 -77.414410\n",
      "47     1139  38.851171 -77.405800\n",
      "48     1141  38.853973 -77.390374\n",
      "49     1142  38.855554 -77.381669\n",
      "50     1144  38.857303 -77.372081\n",
      "51     1148  38.880787 -77.235785\n",
      "52     1157  38.852792 -77.396876\n",
      "53     1168  38.866230 -77.322680\n",
      "54     1261  38.885478 -77.220908\n",
      "55     1282  38.889296 -77.163818\n",
      "56     1286  38.897626 -77.177398\n",
      "57     1316  38.810540 -77.488933\n",
      "58     1318  38.813640 -77.481026\n",
      "59     1320  38.816747 -77.473121\n",
      "        ...        ...        ...\n",
      "\n",
      "[174 rows x 3 columns]\n"
     ]
    }
   ],
   "source": [
    "#http://manishamde.github.io/blog/2013/03/07/pandas-and-python-top-10/\n",
    "import pandas as pd\n",
    "inven = pd.read_csv('/home/sudeepgaddam/data_science/labs/nist/data/detector_lane_inventory.csv')\n",
    "print inven[:0]\n",
    "inven =  inven.ix[:,['direction','zone_id','latitude','longitude']]\n",
    "#print inven\n",
    "east_inven = inven[inven['direction']=='East']\n",
    "west_inven = inven[inven['direction']=='West']\n",
    "north_inven = inven[inven['direction']=='North']\n",
    "south_inven = inven[inven['direction']=='South']\n",
    "\n",
    "#grouped = east_inven['latitude','longitude'].groupby(east_inven['zone_id'])\n",
    "grouped  = east_inven.groupby(['zone_id'], as_index=False).mean()\n",
    "print grouped\n",
    "\n",
    "\n"
   ]
  },
  {
   "cell_type": "code",
   "execution_count": 157,
   "metadata": {
    "collapsed": false
   },
   "outputs": [],
   "source": [
    "grouped['latlong'] = grouped.apply(lambda r: (r['latitude'], r['longitude']), axis=1)\n",
    "\n",
    "#east_lat_long =  east_inven['latlong']\n",
    "east_lat_long =  grouped.ix[:,['latlong','zone_id']]\n",
    "east_lat_long['dummy'] = 0\n",
    "joined = pd.merge(east_lat_long,east_lat_long,on='dummy')\n",
    "del joined['dummy']\n",
    "#Before executing below condition: 133956\n",
    "joined = joined[joined.zone_id_x < joined.zone_id_y]\n",
    "joined['distance'] = joined.apply(lambda r: (vincenty(r['latlong_x'], r['latlong_y']).miles ), axis=1)\n",
    "joined =  joined.ix[:,['zone_id_x','zone_id_y','distance','latlong_x']]"
   ]
  },
  {
   "cell_type": "code",
   "execution_count": 158,
   "metadata": {
    "collapsed": false
   },
   "outputs": [
    {
     "name": "stdout",
     "output_type": "stream",
     "text": [
      "    zone_id_x  zone_id_y   distance                latlong_x\n",
      "1          40         41  10.222148  (39.384129, -76.523505)\n",
      "2          40         42   0.390017  (39.384129, -76.523505)\n",
      "3          40         55  18.816599  (39.384129, -76.523505)\n",
      "76         40       3203   1.492423  (39.384129, -76.523505)\n",
      "77         40       3204   1.492423  (39.384129, -76.523505)\n",
      "78         40       3206   0.987361  (39.384129, -76.523505)\n",
      "79         40       3208   7.918008  (39.384129, -76.523505)\n",
      "80         40       3209   7.918008  (39.384129, -76.523505)\n",
      "81         40       3221   1.985996  (39.384129, -76.523505)\n",
      "82         40       3224   7.208520  (39.384129, -76.523505)\n",
      "83         40       3225   7.208520  (39.384129, -76.523505)\n",
      "84         40       3246   6.409530  (39.384129, -76.523505)\n",
      "85         40       3251   5.344032  (39.384129, -76.523505)\n",
      "86         40       3252   5.344032  (39.384129, -76.523505)\n",
      "87         40       3257   3.137377  (39.384129, -76.523505)\n",
      "88         40       3258   3.137377  (39.384129, -76.523505)\n",
      "89         40       3273   4.230331  (39.384129, -76.523505)\n",
      "\n",
      "[17 rows x 4 columns]\n",
      "     zone_id_x  zone_id_y   distance               latlong_x\n",
      "176         41         42  10.442145  (39.390327, -76.71429)\n",
      "177         41         55   9.993164  (39.390327, -76.71429)\n",
      "250         41       3203  11.108240  (39.390327, -76.71429)\n",
      "251         41       3204  11.108240  (39.390327, -76.71429)\n",
      "252         41       3206   9.380554  (39.390327, -76.71429)\n",
      "253         41       3208   2.721207  (39.390327, -76.71429)\n",
      "254         41       3209   2.721207  (39.390327, -76.71429)\n",
      "255         41       3221   8.596607  (39.390327, -76.71429)\n",
      "256         41       3224   4.050998  (39.390327, -76.71429)\n",
      "257         41       3225   4.050998  (39.390327, -76.71429)\n",
      "258         41       3246   4.677307  (39.390327, -76.71429)\n",
      "259         41       3251   5.464660  (39.390327, -76.71429)\n",
      "260         41       3252   5.464660  (39.390327, -76.71429)\n",
      "261         41       3257   7.554662  (39.390327, -76.71429)\n",
      "262         41       3258   7.554662  (39.390327, -76.71429)\n",
      "263         41       3273   6.746050  (39.390327, -76.71429)\n",
      "\n",
      "[16 rows x 4 columns]\n"
     ]
    }
   ],
   "source": [
    "#print joined\n",
    "joined = joined[joined.distance < 20]\n",
    "print joined[joined.zone_id_x == 40]\n",
    "print joined[joined.zone_id_x == 41]"
   ]
  },
  {
   "cell_type": "code",
   "execution_count": null,
   "metadata": {
    "collapsed": true
   },
   "outputs": [],
   "source": []
  },
  {
   "cell_type": "code",
   "execution_count": null,
   "metadata": {
    "collapsed": true
   },
   "outputs": [],
   "source": []
  }
 ],
 "metadata": {
  "kernelspec": {
   "display_name": "Python 2",
   "language": "python",
   "name": "python2"
  },
  "language_info": {
   "codemirror_mode": {
    "name": "ipython",
    "version": 2
   },
   "file_extension": ".py",
   "mimetype": "text/x-python",
   "name": "python",
   "nbconvert_exporter": "python",
   "pygments_lexer": "ipython2",
   "version": "2.7.6"
  }
 },
 "nbformat": 4,
 "nbformat_minor": 0
}
