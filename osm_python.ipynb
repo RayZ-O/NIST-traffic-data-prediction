{
 "cells": [
  {
   "cell_type": "code",
   "execution_count": 1,
   "metadata": {
    "collapsed": false
   },
   "outputs": [
    {
     "name": "stdout",
     "output_type": "stream",
     "text": [
      "Custis Memorial Parkway, Fairfax County, Virginia, 20155, United States of America\n"
     ]
    }
   ],
   "source": [
    "#sudo pip install OsmApi\n",
    "#sudo pip install geopy\n",
    "from geopy.geocoders import Nominatim\n",
    "from geopy.distance import vincenty\n",
    "from osmapi import OsmApi\n",
    "import json\n",
    "\n",
    "#https://wiki.openstreetmap.org/wiki/Nominatim\n",
    "geolocator = Nominatim()\n",
    "location = geolocator.reverse(\"38.8105401, -77.4889331\")\n",
    "MyApi = OsmApi()\n",
    "print location\n"
   ]
  },
  {
   "cell_type": "code",
   "execution_count": 2,
   "metadata": {
    "collapsed": false
   },
   "outputs": [
    {
     "name": "stdout",
     "output_type": "stream",
     "text": [
      "None\n",
      "0.00249376602913\n"
     ]
    }
   ],
   "source": [
    "print MyApi.NodeGet(8820105)\n",
    "point1 = (38.8105401,-77.4889331)\n",
    "point2 = (38.8105087,-77.4889102)\n",
    "print(vincenty(point1, point2).miles)"
   ]
  },
  {
   "cell_type": "code",
   "execution_count": 3,
   "metadata": {
    "collapsed": false
   },
   "outputs": [],
   "source": [
    "#Use http://boundingbox.klokantech.com/ to get bounding box co-ordinates. Use OsmApi.Map which returns list of dicts. \n",
    "abc = (MyApi.Map(-77.4905548096,38.810092926,-77.4899978638,38.8103103638))\n"
   ]
  },
  {
   "cell_type": "code",
   "execution_count": 4,
   "metadata": {
    "collapsed": false
   },
   "outputs": [
    {
     "name": "stdout",
     "output_type": "stream",
     "text": [
      "605\n",
      "Printing way\n",
      "{u'tiger:name_base': u'I-66', u'horse': u'no', u'maxspeed': u'60 mph', u'bicycle': u'no', u'name': u'Custis Memorial Parkway', u'tiger:cfcc': u'A15', u'tiger:separated': u'yes', u'hgv': u'designated', u'tiger:source': u'tiger_import_dch_v0.6_20070830', u'hov': u'lane', u'note:lanes': u'left lane is hov', u'tiger:county': u'Prince William, VA', u'tiger:tlid': u'207164940:207165331:207165332:207165350:207165353:207165368:207165369:20717:207170088:207170090:207172262:207172283:207174164:207174178:207174180:207174637:207174696:207174862:207176742:207176934:207177297:207178281:207183096:207183099:207183399:207183448', u'oneway': u'yes', u'foot': u'no', u'lanes': u'4', u'sidewalk': u'none', u'ref': u'I 66', u'highway': u'motorway', u'tiger:upload_uuid': u'bulk_upload.pl-3a1ec051-2146-4ec9-9e72-455377b871a7'}\n",
      "Printing way\n",
      "{u'water': u'river', u'natural': u'water'}\n",
      "Printing way\n",
      "{u'bridge': u'yes', u'horse': u'no', u'maxspeed': u'60 mph', u'bicycle': u'no', u'name': u'Custis Memorial Parkway', u'tiger:cfcc': u'A15', u'tiger:name_base_1': u'I-66', u'hgv': u'designated', u'layer': u'1', u'hov': u'lane', u'note:lanes': u'left lane is hov', u'tiger:county': u'Fairfax, VA', u'tiger:name_type': u'Pky', u'oneway': u'yes', u'foot': u'no', u'lanes': u'4', u'sidewalk': u'none', u'ref': u'I 66', u'highway': u'motorway', u'tiger:name_base': u'Custis Memorial'}\n",
      "Printing way\n",
      "{u'tiger:county': u'Prince William, VA', u'tiger:reviewed': u'no', u'tiger:cfcc': u'A64', u'highway': u'motorway_link', u'oneway': u'yes'}\n"
     ]
    }
   ],
   "source": [
    "print len(abc)\n",
    "import yaml\n",
    "\n",
    "#first_tag = abc[200]\n",
    "#http://wiki.openstreetmap.org/wiki/Key:highway\n",
    "\n",
    "for a in abc:\n",
    "    if a['type'] == \"way\":\n",
    "        print \"Printing way\"\n",
    "        print a['data']['tag']"
   ]
  },
  {
   "cell_type": "code",
   "execution_count": 5,
   "metadata": {
    "collapsed": false,
    "scrolled": true
   },
   "outputs": [
    {
     "name": "stdout",
     "output_type": "stream",
     "text": [
      "Empty DataFrame\n",
      "Columns: [lane_id, zone_id, lane_number, name, state, road, direction, location_description, lane_type, organization, detector_type, latitude, longitude, bearing, default_speed, interval]\n",
      "Index: []\n",
      "\n",
      "[0 rows x 16 columns]\n",
      "    zone_id   latitude  longitude\n",
      "0         1  39.296171 -77.334070\n",
      "1         3  39.277289 -77.323438\n",
      "2         4  39.277289 -77.323438\n",
      "3         5  39.321607 -77.354195\n",
      "4         6  39.321607 -77.354195\n",
      "5         7  39.381816 -77.409946\n",
      "6         8  39.381816 -77.409946\n",
      "7         9  39.231735 -77.284848\n",
      "8        10  39.246888 -77.298016\n",
      "9        11  39.118924 -77.195727\n",
      "10       12  39.118924 -77.195727\n",
      "11       13  39.183971 -77.254293\n",
      "12       14  39.263887 -77.310649\n",
      "13       15  39.021623 -76.938553\n",
      "14       16  39.118722 -77.196643\n",
      "15       17  39.118722 -77.196643\n",
      "16       18  39.183971 -77.254293\n",
      "17       19  39.231735 -77.284848\n",
      "18       20  39.263887 -77.310649\n",
      "19       21  39.028391 -77.113884\n",
      "20       23  39.328983 -77.371482\n",
      "21       25  39.328983 -77.371482\n",
      "22       26  39.339714 -77.382884\n",
      "23       27  39.339714 -77.382884\n",
      "24       28  38.981251 -77.172555\n",
      "25       29  38.981251 -77.172555\n",
      "26       30  39.013154 -77.144616\n",
      "27       31  39.013485 -77.052944\n",
      "28       32  39.021623 -76.938553\n",
      "29       33  38.990938 -77.157572\n",
      "30       34  38.990938 -77.157572\n",
      "31       35  39.013154 -77.144616\n",
      "32       36  39.013905 -77.053346\n",
      "33       37  39.021623 -76.938553\n",
      "34       38  39.016213 -77.030271\n",
      "35       39  39.294198 -76.742137\n",
      "36       40  39.384129 -76.523505\n",
      "37       41  39.390327 -76.714290\n",
      "38       42  39.379282 -76.519755\n",
      "39       44  39.412284 -76.583114\n",
      "40       45  39.358390 -76.503300\n",
      "41       46  39.358390 -76.503300\n",
      "42       47  39.294177 -76.742684\n",
      "43       48  39.391045 -76.712691\n",
      "44       49  39.379282 -76.519755\n",
      "45       51  39.412284 -76.583114\n",
      "46       52  39.394429 -76.700974\n",
      "47       53  39.394429 -76.700974\n",
      "48       54  39.384129 -76.523505\n",
      "49       55  39.296079 -76.855962\n",
      "50       57  39.401979 -77.448155\n",
      "51       58  39.403853 -77.346001\n",
      "52       77  39.111706 -76.877576\n",
      "53       78  39.158815 -76.830115\n",
      "54       79  39.144144 -76.844094\n",
      "55       80  39.211740 -76.738470\n",
      "56       81  39.042445 -76.935128\n",
      "57       82  39.207876 -76.746452\n",
      "58       83  39.111706 -76.877576\n",
      "59       84  39.158815 -76.830115\n",
      "        ...        ...        ...\n",
      "\n",
      "[851 rows x 3 columns]\n"
     ]
    }
   ],
   "source": [
    "#http://manishamde.github.io/blog/2013/03/07/pandas-and-python-top-10/\n",
    "import pandas as pd\n",
    "inven = pd.read_csv('/home/sudeepgaddam/data_science/labs/nist/data/detector_lane_inventory.csv')\n",
    "print inven[:0]\n",
    "inven =  inven.ix[:,['zone_id','latitude','longitude']]\n",
    "#print inven\n",
    "#east_inven = inven[inven['direction']=='East']\n",
    "#west_inven = inven[inven['direction']=='West']\n",
    "#north_inven = inven[inven['direction']=='North']\n",
    "#south_inven = inven[inven['direction']=='South']\n",
    "\n",
    "#grouped = east_inven['latitude','longitude'].groupby(east_inven['zone_id'])\n",
    "grouped  = inven.groupby(['zone_id'], as_index=False).mean()\n",
    "print grouped\n",
    "\n",
    "\n"
   ]
  },
  {
   "cell_type": "code",
   "execution_count": 6,
   "metadata": {
    "collapsed": false
   },
   "outputs": [
    {
     "name": "stdout",
     "output_type": "stream",
     "text": [
      "     road  zone_id direction\n",
      "0    I-66     1316      East\n",
      "1    I-66     1119      East\n",
      "4    I-66     1317      West\n",
      "5    I-66     1120      West\n",
      "8    I-66     1318      East\n",
      "9    I-66     1121      East\n",
      "12   I-66     1319      West\n",
      "13   I-66     1122      West\n",
      "16   I-66     1320      East\n",
      "17   I-66     1123      East\n",
      "20   I-66     1321      West\n",
      "21   I-66     1124      West\n",
      "24   I-66     1323      West\n",
      "25   I-66     1126      West\n",
      "28   I-66     1325      West\n",
      "29   I-66     1128      West\n",
      "32   I-66     1326      East\n",
      "33   I-66     1129      East\n",
      "36   I-66     1327      West\n",
      "37   I-66     1130      West\n",
      "40   I-66     1328      East\n",
      "41   I-66     1131      East\n",
      "44   I-66      900      East\n",
      "45   I-66     1329      East\n",
      "46   I-66     1132      East\n",
      "49   I-66     1330      West\n",
      "50   I-66     1133      West\n",
      "54   I-66     1331      East\n",
      "55   I-66     1134      East\n",
      "58   I-66      901      East\n",
      "59   I-66      902      East\n",
      "61   I-66     1332      East\n",
      "62   I-66     1135      East\n",
      "66   I-66     1333      West\n",
      "67   I-66     1136      West\n",
      "70   I-66     1334      East\n",
      "71   I-66     1137      East\n",
      "74   I-66     1335      West\n",
      "75   I-66     1138      West\n",
      "78   I-66     1336      East\n",
      "79   I-66     1139      East\n",
      "82   I-66     1337      West\n",
      "83   I-66     1140      West\n",
      "86   I-66     1338      East\n",
      "87   I-66     1141      East\n",
      "90   I-66      903      East\n",
      "91   I-66      906      East\n",
      "92   I-66      908      East\n",
      "93   I-66     1339      East\n",
      "94   I-66     1142      East\n",
      "97   I-66     1340      West\n",
      "98   I-66     1143      West\n",
      "101  I-66     1341      East\n",
      "102  I-66     1144      East\n",
      "105  I-66     1470      West\n",
      "110  I-66    57896      East\n",
      "111  I-66    57905      East\n",
      "114  I-66    57890      East\n",
      "115  I-66    57910      East\n",
      "119  I-66    57899      East\n",
      "      ...      ...       ...\n",
      "\n",
      "[851 rows x 3 columns]\n"
     ]
    }
   ],
   "source": [
    "#http://wesmckinney.com/blog/filtering-out-duplicate-dataframe-rows/\n",
    "name_zone = pd.read_csv('/home/sudeepgaddam/data_science/labs/nist/data/detector_lane_inventory.csv')\n",
    "name_zone = name_zone.ix[:,['road','zone_id','direction']]\n",
    "name_zone = name_zone.drop_duplicates('zone_id')\n",
    "\n",
    "print name_zone"
   ]
  },
  {
   "cell_type": "code",
   "execution_count": 7,
   "metadata": {
    "collapsed": false
   },
   "outputs": [
    {
     "name": "stdout",
     "output_type": "stream",
     "text": [
      "    zone_id   latitude  longitude   road   direction\n",
      "0         1  39.296171 -77.334070  I-270       North\n",
      "1         3  39.277289 -77.323438  I-270       South\n",
      "2         4  39.277289 -77.323438  I-270       North\n",
      "3         5  39.321607 -77.354195  I-270       North\n",
      "4         6  39.321607 -77.354195  I-270       South\n",
      "5         7  39.381816 -77.409946  I-270       South\n",
      "6         8  39.381816 -77.409946  I-270       North\n",
      "7         9  39.231735 -77.284848  I-270       North\n",
      "8        10  39.246888 -77.298016  I-270       North\n",
      "9        11  39.118924 -77.195727  I-270       North\n",
      "10       12  39.118924 -77.195727  I-270       North\n",
      "11       13  39.183971 -77.254293  I-270       North\n",
      "12       14  39.263887 -77.310649  I-270       North\n",
      "13       15  39.021623 -76.938553  I-495       South\n",
      "14       16  39.118722 -77.196643  I-270       South\n",
      "15       17  39.118722 -77.196643  I-270       South\n",
      "16       18  39.183971 -77.254293  I-270       South\n",
      "17       19  39.231735 -77.284848  I-270       South\n",
      "18       20  39.263887 -77.310649  I-270       South\n",
      "19       21  39.028391 -77.113884  I-270       South\n",
      "20       23  39.328983 -77.371482  I-270       North\n",
      "21       25  39.328983 -77.371482  I-270       South\n",
      "22       26  39.339714 -77.382884  I-270       North\n",
      "23       27  39.339714 -77.382884  I-270       South\n",
      "24       28  38.981251 -77.172555  I-495  Inner Loop\n",
      "25       29  38.981251 -77.172555  I-495  Outer Loop\n",
      "26       30  39.013154 -77.144616  I-495       Other\n",
      "27       31  39.013485 -77.052944  I-495  Inner Loop\n",
      "28       32  39.021623 -76.938553  I-495  Inner Loop\n",
      "29       33  38.990938 -77.157572  I-495  Inner Loop\n",
      "30       34  38.990938 -77.157572  I-495  Outer Loop\n",
      "31       35  39.013154 -77.144616  I-495  Outer Loop\n",
      "32       36  39.013905 -77.053346  I-495  Outer Loop\n",
      "33       37  39.021623 -76.938553  I-495       Other\n",
      "34       38  39.016213 -77.030271  I-495  Outer Loop\n",
      "35       39  39.294198 -76.742137  I-695  Inner Loop\n",
      "36       40  39.384129 -76.523505  I-695        East\n",
      "37       41  39.390327 -76.714290  I-695        East\n",
      "38       42  39.379282 -76.519755  I-695        East\n",
      "39       44  39.412284 -76.583114  I-695  Inner Loop\n",
      "40       45  39.358390 -76.503300  I-695       Other\n",
      "41       46  39.358390 -76.503300  I-695       Other\n",
      "42       47  39.294177 -76.742684  I-695  Outer Loop\n",
      "43       48  39.391045 -76.712691  I-695        West\n",
      "44       49  39.379282 -76.519755  I-695  Outer Loop\n",
      "45       51  39.412284 -76.583114  I-695        West\n",
      "46       52  39.394429 -76.700974  I-695  Inner Loop\n",
      "47       53  39.394429 -76.700974  I-695  Outer Loop\n",
      "48       54  39.384129 -76.523505  I-695       Other\n",
      "49       55  39.296079 -76.855962   I-70        East\n",
      "50       57  39.401979 -77.448155   I-70        East\n",
      "51       58  39.403853 -77.346001   I-70        West\n",
      "52       77  39.111706 -76.877576   I-95       North\n",
      "53       78  39.158815 -76.830115   I-95       Other\n",
      "54       79  39.144144 -76.844094   I-95       North\n",
      "55       80  39.211740 -76.738470   I-95       North\n",
      "56       81  39.042445 -76.935128   I-95       Other\n",
      "57       82  39.207876 -76.746452   I-95       North\n",
      "58       83  39.111706 -76.877576   I-95       Other\n",
      "59       84  39.158815 -76.830115   I-95       South\n",
      "        ...        ...        ...    ...         ...\n",
      "\n",
      "[851 rows x 5 columns]\n"
     ]
    }
   ],
   "source": [
    "#Join name_zone and zone_lat_long\n",
    "grouped = pd.merge(grouped,name_zone,on='zone_id')\n",
    "print grouped"
   ]
  },
  {
   "cell_type": "code",
   "execution_count": 8,
   "metadata": {
    "collapsed": false
   },
   "outputs": [
    {
     "name": "stdout",
     "output_type": "stream",
     "text": [
      "      zone_id_x  zone_id_y   distance direction_y direction_x\n",
      "2             1          4   1.421823       North       North\n",
      "3             1          5   2.059681       North       North\n",
      "6             1          8   7.171422       North       North\n",
      "7             1          9   5.169775       North       North\n",
      "8             1         10   3.911011       North       North\n",
      "9             1         11  14.305014       North       North\n",
      "10            1         12  14.305014       North       North\n",
      "11            1         13   8.844431       North       North\n",
      "12            1         14   2.556723       North       North\n",
      "20            1         23   3.023783       North       North\n",
      "22            1         26   3.983094       North       North\n",
      "93            1        119   5.907507       North       North\n",
      "455           1       3392  22.258267       North       North\n",
      "562           1       3499  20.994059       North       North\n",
      "566           1       3503  21.479465       North       North\n",
      "683           1      56079  11.933894       North       North\n",
      "685           1      56081  11.933894       North       North\n",
      "687           1      56115   8.196809       North       North\n",
      "855           3          6   3.473442       South       South\n",
      "856           3          7   8.571945       South       South\n",
      "865           3         16  12.883094       South       South\n",
      "866           3         17  12.883094       South       South\n",
      "867           3         18   7.429924       South       South\n",
      "868           3         19   3.762885       South       South\n",
      "869           3         20   1.151106       South       South\n",
      "870           3         21  20.530192       South       South\n",
      "872           3         25   4.398628       South       South\n",
      "874           3         27   5.356770       South       South\n",
      "1305          3       3391  20.856732       South       South\n",
      "1411          3       3497  19.581735       South       South\n",
      "1412          3       3498  19.581735       South       South\n",
      "1416          3       3502  20.063507       South       South\n",
      "1523          3      55985   1.421823       South       South\n",
      "1539          3      56116   9.597467       South       South\n",
      "1702          4          1   1.421823       North       North\n",
      "1705          4          5   3.473442       North       North\n",
      "1708          4          8   8.571945       North       North\n",
      "1709          4          9   3.762885       North       North\n",
      "1710          4         10   2.501393       North       North\n",
      "1711          4         11  12.897326       North       North\n",
      "1712          4         12  12.897326       North       North\n",
      "1713          4         13   7.429924       North       North\n",
      "1714          4         14   1.151106       North       North\n",
      "1722          4         23   4.398628       North       North\n",
      "1724          4         26   5.356770       North       North\n",
      "1795          4        119   7.300329       North       North\n",
      "2157          4       3392  20.856732       North       North\n",
      "2264          4       3499  19.581735       North       North\n",
      "2268          4       3503  20.063507       North       North\n",
      "2385          4      56079  10.528737       North       North\n",
      "2387          4      56081  10.528737       North       North\n",
      "2389          4      56115   9.597467       North       North\n",
      "2553          5          1   2.059681       North       North\n",
      "2555          5          4   3.473442       North       North\n",
      "2559          5          8   5.115520       North       North\n",
      "2560          5          9   7.229292       North       North\n",
      "2561          5         10   5.969922       North       North\n",
      "2562          5         11  16.364676       North       North\n",
      "2563          5         12  16.364676       North       North\n",
      "2564          5         13  10.902383       North       North\n",
      "            ...        ...        ...         ...         ...\n",
      "\n",
      "[38854 rows x 5 columns]\n"
     ]
    }
   ],
   "source": [
    "grouped['latlong'] = grouped.apply(lambda r: (r['latitude'], r['longitude']), axis=1)\n",
    "\n",
    "#east_lat_long =  east_inven['latlong']\n",
    "lat_long =  grouped.ix[:,['latlong','zone_id','road','direction']]\n",
    "lat_long['dummy'] = 0\n",
    "joined = pd.merge(lat_long,lat_long,on='dummy')\n",
    "del joined['dummy']\n",
    "#Before executing below condition: 133956\n",
    "\n",
    "#if we remove road_x == road_y condition, zones that are nearby but on different roads also come, which we are not interested in \n",
    "\n",
    "joined = joined[(joined.zone_id_x != joined.zone_id_y ) & (joined.road_x == joined.road_y) & (joined.direction_x == joined.direction_y)]\n",
    "#joined = joined[()]\n",
    "joined['distance'] = joined.apply(lambda r: (vincenty(r['latlong_x'], r['latlong_y']).miles ), axis=1)\n",
    "joined =  joined.ix[:,['zone_id_x','zone_id_y','distance','direction_y','direction_x']]\n",
    "print joined"
   ]
  },
  {
   "cell_type": "code",
   "execution_count": 26,
   "metadata": {
    "collapsed": false
   },
   "outputs": [],
   "source": [
    "#print joined\n",
    "new_joined = joined.ix[:,['zone_id_x','zone_id_y','distance']]\n",
    "new_joined = new_joined[new_joined.distance < 10]\n",
    "#new_joined['c'] = new_joined.apply(lambda row: new_joined.groupby('zone_id_x').get_group(row['zone_id_x'])['zone_id_y'].tolist(), axis=1)\n",
    "new_joined['zone_distance'] = new_joined.apply(lambda r: (r['zone_id_y'], r['distance']), axis=1)\n",
    "df  = new_joined.groupby(['zone_id_x'])\n"
   ]
  },
  {
   "cell_type": "code",
   "execution_count": 27,
   "metadata": {
    "collapsed": false
   },
   "outputs": [
    {
     "data": {
      "text/plain": [
       "zone_id_x\n",
       "1            [(4.0, 1.42182336012), (5.0, 2.05968078689), (...\n",
       "3            [(6.0, 3.47344182588), (7.0, 8.57194474888), (...\n",
       "4            [(1.0, 1.42182336012), (5.0, 3.47344182588), (...\n",
       "5            [(1.0, 2.05968078689), (4.0, 3.47344182588), (...\n",
       "6            [(3.0, 3.47344182588), (7.0, 5.11552037972), (...\n",
       "7            [(3.0, 8.57194474888), (6.0, 5.11552037972), (...\n",
       "8            [(1.0, 7.17142171036), (4.0, 8.57194474888), (...\n",
       "9            [(1.0, 5.16977472722), (4.0, 3.76288467922), (...\n",
       "10           [(1.0, 3.91101093563), (4.0, 2.50139273109), (...\n",
       "11           [(9.0, 9.13567265669), (12.0, 0.0), (13.0, 5.4...\n",
       "12           [(9.0, 9.13567265669), (11.0, 0.0), (13.0, 5.4...\n",
       "13           [(1.0, 8.8444313676), (4.0, 7.42992398913), (9...\n",
       "14           [(1.0, 2.55672317455), (4.0, 1.15110560544), (...\n",
       "15           [(3347.0, 7.31795413911), (3358.0, 9.610161555...\n",
       "16           [(17.0, 0.0), (18.0, 5.46336917185), (19.0, 9....\n",
       "...\n",
       "68441        [(86.0, 6.68600168724), (88.0, 7.18835013023),...\n",
       "68442        [(86.0, 6.68600168724), (88.0, 7.18835013023),...\n",
       "68443        [(80.0, 6.68600168724), (82.0, 7.18835013023),...\n",
       "68444        [(80.0, 6.68600168724), (82.0, 7.18835013023),...\n",
       "68445        [(3214.0, 6.47536119413), (3226.0, 7.132069592...\n",
       "68446        [(3215.0, 6.47536119413), (3227.0, 7.132069592...\n",
       "68447        [(3373.0, 0.706612405059), (3415.0, 0.90187825...\n",
       "68448        [(3374.0, 0.706612405059), (3375.0, 0.70661240...\n",
       "68449        [(3404.0, 1.54884773562), (3405.0, 1.548847735...\n",
       "68450        [(3403.0, 1.54884773562), (3413.0, 4.023604133...\n",
       "68451                [(3408.0, 0.0), (3545.0, 0.728100869468)]\n",
       "68452                [(3409.0, 0.0), (3546.0, 0.728100869468)]\n",
       "68453        [(3355.0, 0.706612405059), (3367.0, 7.06812642...\n",
       "68454        [(3355.0, 0.706612405059), (3367.0, 7.06812642...\n",
       "68455        [(3356.0, 0.706612405059), (3357.0, 0.70661240...\n",
       "Length: 838, dtype: object"
      ]
     },
     "execution_count": 27,
     "metadata": {},
     "output_type": "execute_result"
    }
   ],
   "source": [
    "#To get nearby zone and its distance\n",
    "df['zone_distance'].apply(lambda x: x.tolist())\n",
    "#df['distance'].apply(lambda x: x.tolist())\n"
   ]
  },
  {
   "cell_type": "code",
   "execution_count": 28,
   "metadata": {
    "collapsed": false
   },
   "outputs": [
    {
     "data": {
      "text/plain": [
       "zone_id_x\n",
       "1                 [4, 5, 8, 9, 10, 13, 14, 23, 26, 119, 56115]\n",
       "3                     [6, 7, 18, 19, 20, 25, 27, 55985, 56116]\n",
       "4                 [1, 5, 8, 9, 10, 13, 14, 23, 26, 119, 56115]\n",
       "5                     [1, 4, 8, 9, 10, 14, 23, 26, 119, 56115]\n",
       "6                         [3, 7, 19, 20, 25, 27, 55985, 56116]\n",
       "7                             [3, 6, 20, 25, 27, 55985, 56116]\n",
       "8                            [1, 4, 5, 14, 23, 26, 119, 56115]\n",
       "9            [1, 4, 5, 10, 11, 12, 13, 14, 23, 26, 56079, 5...\n",
       "10             [1, 4, 5, 9, 13, 14, 23, 26, 119, 56079, 56081]\n",
       "11                 [9, 12, 13, 3392, 3499, 3503, 56079, 56081]\n",
       "12                 [9, 11, 13, 3392, 3499, 3503, 56079, 56081]\n",
       "13                     [1, 4, 9, 10, 11, 12, 14, 56079, 56081]\n",
       "14           [1, 4, 5, 8, 9, 10, 13, 23, 26, 119, 56079, 56...\n",
       "15           [3347, 3358, 3359, 3437, 3447, 3456, 3463, 349...\n",
       "16                    [17, 18, 19, 21, 3391, 3497, 3498, 3502]\n",
       "...\n",
       "68441        [86, 88, 3192, 3193, 3216, 3218, 3238, 3240, 3...\n",
       "68442        [86, 88, 3192, 3193, 3216, 3218, 3238, 3240, 3...\n",
       "68443        [80, 82, 3194, 3195, 3217, 3219, 3239, 3241, 3...\n",
       "68444        [80, 82, 3194, 3195, 3217, 3219, 3239, 3241, 3...\n",
       "68445        [3214, 3226, 3232, 3234, 3247, 3253, 3259, 326...\n",
       "68446        [3215, 3227, 3233, 3235, 3248, 3254, 3260, 326...\n",
       "68447                                       [3373, 3415, 3512]\n",
       "68448                                 [3374, 3375, 3416, 3513]\n",
       "68449               [3404, 3405, 3414, 3444, 3496, 3511, 3536]\n",
       "68450               [3403, 3413, 3443, 3495, 3509, 3510, 3535]\n",
       "68451                                             [3408, 3545]\n",
       "68452                                             [3409, 3546]\n",
       "68453        [3355, 3367, 3371, 3384, 3393, 3472, 3474, 347...\n",
       "68454        [3355, 3367, 3371, 3384, 3393, 3472, 3474, 347...\n",
       "68455        [3356, 3357, 3368, 3372, 3385, 3394, 3395, 347...\n",
       "Length: 838, dtype: object"
      ]
     },
     "execution_count": 28,
     "metadata": {},
     "output_type": "execute_result"
    }
   ],
   "source": [
    "#All the zones which are at a distance of 10 (Can be changeable)\n",
    "df['zone_id_y'].apply(lambda x: x.tolist())"
   ]
  },
  {
   "cell_type": "code",
   "execution_count": null,
   "metadata": {
    "collapsed": true
   },
   "outputs": [],
   "source": []
  },
  {
   "cell_type": "code",
   "execution_count": null,
   "metadata": {
    "collapsed": true
   },
   "outputs": [],
   "source": []
  }
 ],
 "metadata": {
  "kernelspec": {
   "display_name": "Python 2",
   "language": "python",
   "name": "python2"
  },
  "language_info": {
   "codemirror_mode": {
    "name": "ipython",
    "version": 2
   },
   "file_extension": ".py",
   "mimetype": "text/x-python",
   "name": "python",
   "nbconvert_exporter": "python",
   "pygments_lexer": "ipython2",
   "version": "2.7.6"
  }
 },
 "nbformat": 4,
 "nbformat_minor": 0
}
