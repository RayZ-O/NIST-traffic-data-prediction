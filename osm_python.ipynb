{
 "cells": [
  {
   "cell_type": "code",
   "execution_count": 13,
   "metadata": {
    "collapsed": false
   },
   "outputs": [
    {
     "name": "stdout",
     "output_type": "stream",
     "text": [
      "Custis Memorial Parkway, Fairfax County, Virginia, 20155, United States of America\n"
     ]
    }
   ],
   "source": [
    "#sudo pip install OsmApi\n",
    "#sudo pip install geopy\n",
    "from geopy.geocoders import Nominatim\n",
    "from geopy.distance import vincenty\n",
    "from osmapi import OsmApi\n",
    "import json\n",
    "\n",
    "#https://wiki.openstreetmap.org/wiki/Nominatim\n",
    "geolocator = Nominatim()\n",
    "location = geolocator.reverse(\"38.8105401, -77.4889331\")\n",
    "MyApi = OsmApi()\n",
    "print location\n"
   ]
  },
  {
   "cell_type": "code",
   "execution_count": 5,
   "metadata": {
    "collapsed": false
   },
   "outputs": [
    {
     "name": "stdout",
     "output_type": "stream",
     "text": [
      "None\n"
     ]
    }
   ],
   "source": [
    "print MyApi.NodeGet(8820105)"
   ]
  },
  {
   "cell_type": "code",
   "execution_count": 6,
   "metadata": {
    "collapsed": false
   },
   "outputs": [
    {
     "name": "stdout",
     "output_type": "stream",
     "text": [
      "''\n"
     ]
    }
   ],
   "source": [
    "#Use http://boundingbox.klokantech.com/ to get bounding box co-ordinates. Use OsmApi.Map which returns list of dicts. \n",
    "abc = (MyApi.Map(-77.4905548096,38.810092926,-77.4899978638,38.8103103638))\n"
   ]
  },
  {
   "cell_type": "code",
   "execution_count": 51,
   "metadata": {
    "collapsed": false
   },
   "outputs": [
    {
     "name": "stdout",
     "output_type": "stream",
     "text": [
      "605\n",
      "Printing way\n",
      "{u'tiger:name_base': u'I-66', u'horse': u'no', u'maxspeed': u'60 mph', u'bicycle': u'no', u'name': u'Custis Memorial Parkway', u'tiger:cfcc': u'A15', u'tiger:separated': u'yes', u'hgv': u'designated', u'tiger:source': u'tiger_import_dch_v0.6_20070830', u'hov': u'lane', u'note:lanes': u'left lane is hov', u'tiger:county': u'Prince William, VA', u'tiger:tlid': u'207164940:207165331:207165332:207165350:207165353:207165368:207165369:20717:207170088:207170090:207172262:207172283:207174164:207174178:207174180:207174637:207174696:207174862:207176742:207176934:207177297:207178281:207183096:207183099:207183399:207183448', u'oneway': u'yes', u'foot': u'no', u'lanes': u'4', u'sidewalk': u'none', u'ref': u'I 66', u'highway': u'motorway', u'tiger:upload_uuid': u'bulk_upload.pl-3a1ec051-2146-4ec9-9e72-455377b871a7'}\n",
      "Printing way\n",
      "{u'water': u'river', u'natural': u'water'}\n",
      "Printing way\n",
      "{u'bridge': u'yes', u'horse': u'no', u'maxspeed': u'60 mph', u'bicycle': u'no', u'name': u'Custis Memorial Parkway', u'tiger:cfcc': u'A15', u'tiger:name_base_1': u'I-66', u'hgv': u'designated', u'layer': u'1', u'hov': u'lane', u'note:lanes': u'left lane is hov', u'tiger:county': u'Fairfax, VA', u'tiger:name_type': u'Pky', u'oneway': u'yes', u'foot': u'no', u'lanes': u'4', u'sidewalk': u'none', u'ref': u'I 66', u'highway': u'motorway', u'tiger:name_base': u'Custis Memorial'}\n",
      "Printing way\n",
      "{u'tiger:county': u'Prince William, VA', u'tiger:reviewed': u'no', u'tiger:cfcc': u'A64', u'highway': u'motorway_link', u'oneway': u'yes'}\n"
     ]
    }
   ],
   "source": [
    "print len(abc)\n",
    "import yaml\n",
    "\n",
    "#first_tag = abc[200]\n",
    "#http://wiki.openstreetmap.org/wiki/Key:highway\n",
    "\n",
    "for a in abc:\n",
    "    if a['type'] == \"way\":\n",
    "        print \"Printing way\"\n",
    "        print a['data']['tag']"
   ]
  },
  {
   "cell_type": "code",
   "execution_count": null,
   "metadata": {
    "collapsed": true
   },
   "outputs": [],
   "source": []
  },
  {
   "cell_type": "code",
   "execution_count": null,
   "metadata": {
    "collapsed": true
   },
   "outputs": [],
   "source": []
  }
 ],
 "metadata": {
  "kernelspec": {
   "display_name": "Python 2",
   "language": "python",
   "name": "python2"
  },
  "language_info": {
   "codemirror_mode": {
    "name": "ipython",
    "version": 2
   },
   "file_extension": ".py",
   "mimetype": "text/x-python",
   "name": "python",
   "nbconvert_exporter": "python",
   "pygments_lexer": "ipython2",
   "version": "2.7.6"
  }
 },
 "nbformat": 4,
 "nbformat_minor": 0
}
